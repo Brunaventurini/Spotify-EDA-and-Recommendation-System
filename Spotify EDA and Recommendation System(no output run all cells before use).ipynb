{
 "cells": [
  {
   "cell_type": "markdown",
   "id": "4cb2aea9",
   "metadata": {},
   "source": [
    "# Spotify Exploratory Data Analysis and Recommendation System\n",
    "\n",
    "Today, Spotify is the world's most popular audio streaming subscription service with 433m active users, including 188m subscribers, across 183 markets. <p>\n",
    "    \n",
    "We will perform Exploratory Data Analysis (EDA) in Python using Pandas, NumPy, Matplotlib, and Seaborn on Spotify’s dataset, such as sampling, correlation, etc.to identify missing values, plots, correlation heat map. <p>\n",
    "\n",
    "Will explore and quantify the music data to gain insights and correlations among the diiferent song attributes using heatmap and regression plots with Python libraries and functions. \n",
    "\n",
    "After the EDA we will built a Music Recommendation System using different the Spotify dataset.   \n",
    "\n",
    "<img src=\"https://storage.googleapis.com/pr-newsroom-wp/1/2018/11/Spotify_Logo_RGB_Green-768x231.png\" width=\"450\" align=\"left\"/>"
   ]
  },
  {
   "cell_type": "markdown",
   "id": "02d0ac6a",
   "metadata": {},
   "source": [
    "### Importing Libraries"
   ]
  },
  {
   "cell_type": "code",
   "execution_count": null,
   "id": "128cbd69",
   "metadata": {},
   "outputs": [],
   "source": [
    "import os\n",
    "import numpy as np\n",
    "import pandas as pd\n",
    "import seaborn as sns\n",
    "import plotly.express as px \n",
    "import matplotlib.pyplot as plt\n",
    "#%matplotlib inline\n",
    "\n",
    "from sklearn.cluster import KMeans\n",
    "from sklearn.preprocessing import StandardScaler\n",
    "from sklearn.pipeline import Pipeline\n",
    "from sklearn.manifold import TSNE\n",
    "from sklearn.decomposition import PCA\n",
    "from sklearn.metrics import euclidean_distances\n",
    "from scipy.spatial.distance import cdist\n",
    "\n",
    "import warnings\n",
    "warnings.filterwarnings(\"ignore\")"
   ]
  },
  {
   "cell_type": "markdown",
   "id": "07d22e33",
   "metadata": {},
   "source": [
    "### Reading Spotify Dataset"
   ]
  },
  {
   "cell_type": "code",
   "execution_count": null,
   "id": "88743c01",
   "metadata": {},
   "outputs": [],
   "source": [
    "data = pd.read_csv(\"D:/DATA ANALYST PROJECTS/Spotify EDA and Recommendation System/Dataset/data.csv\")\n",
    "genre_data = pd.read_csv(\"D:/DATA ANALYST PROJECTS/Spotify EDA and Recommendation System/Dataset/data_by_genres.csv\")\n",
    "year_data = pd.read_csv(\"D:/DATA ANALYST PROJECTS/Spotify EDA and Recommendation System/Dataset/data_by_year.csv\")\n",
    "artist_data = pd.read_csv(\"D:/DATA ANALYST PROJECTS/Spotify EDA and Recommendation System/Dataset/data_by_artist.csv\")"
   ]
  },
  {
   "cell_type": "code",
   "execution_count": null,
   "id": "22ece9fa",
   "metadata": {},
   "outputs": [],
   "source": [
    "data.head()"
   ]
  },
  {
   "cell_type": "code",
   "execution_count": null,
   "id": "0603c6c7",
   "metadata": {},
   "outputs": [],
   "source": [
    "genre_data.head()"
   ]
  },
  {
   "cell_type": "code",
   "execution_count": null,
   "id": "e96a1dc9",
   "metadata": {
    "scrolled": false
   },
   "outputs": [],
   "source": [
    "year_data.head()"
   ]
  },
  {
   "cell_type": "code",
   "execution_count": null,
   "id": "a2b093d2",
   "metadata": {},
   "outputs": [],
   "source": [
    "artist_data.head()"
   ]
  },
  {
   "cell_type": "code",
   "execution_count": null,
   "id": "171dcbea",
   "metadata": {},
   "outputs": [],
   "source": [
    "# checking size of data\n",
    "\n",
    "data.shape"
   ]
  },
  {
   "cell_type": "code",
   "execution_count": null,
   "id": "a3758c4e",
   "metadata": {},
   "outputs": [],
   "source": [
    "# checking null value\n",
    "\n",
    "pd.isnull(data).sum()"
   ]
  },
  {
   "cell_type": "code",
   "execution_count": null,
   "id": "82fffcaf",
   "metadata": {},
   "outputs": [],
   "source": [
    "# concise summary of the DataFrame\n",
    "\n",
    "data.info()"
   ]
  },
  {
   "cell_type": "code",
   "execution_count": null,
   "id": "0212bb31",
   "metadata": {},
   "outputs": [],
   "source": [
    "# concise summary of the DataFrame\n",
    "\n",
    "genre_data.info()"
   ]
  },
  {
   "cell_type": "code",
   "execution_count": null,
   "id": "6d122b16",
   "metadata": {},
   "outputs": [],
   "source": [
    "# concise summary of the DataFrame\n",
    "\n",
    "year_data.info()"
   ]
  },
  {
   "cell_type": "code",
   "execution_count": null,
   "id": "5599ca10",
   "metadata": {},
   "outputs": [],
   "source": [
    "# concise summary of the DataFrame\n",
    "\n",
    "artist_data.info()"
   ]
  },
  {
   "cell_type": "code",
   "execution_count": null,
   "id": "ddf83331",
   "metadata": {},
   "outputs": [],
   "source": [
    "#### Descriptive statistics of the numerical variables present in columns\n",
    "\n",
    "data.describe().transpose()"
   ]
  },
  {
   "cell_type": "markdown",
   "id": "7c35602f",
   "metadata": {},
   "source": [
    "### Top10 least popular songs"
   ]
  },
  {
   "cell_type": "code",
   "execution_count": null,
   "id": "b9ef1d06",
   "metadata": {},
   "outputs": [],
   "source": [
    "least_popular = data.sort_values('popularity', ascending = True).head(10) \n",
    "least_popular[['year','name','release_date','artists']]"
   ]
  },
  {
   "cell_type": "markdown",
   "id": "e82ac020",
   "metadata": {},
   "source": [
    "### Top10 most popular songs"
   ]
  },
  {
   "cell_type": "code",
   "execution_count": null,
   "id": "77c8a487",
   "metadata": {},
   "outputs": [],
   "source": [
    "most_popular = data.sort_values('popularity', ascending = False).head(10) \n",
    "most_popular[['year','name','release_date','artists']]"
   ]
  },
  {
   "cell_type": "markdown",
   "id": "48159928",
   "metadata": {},
   "source": [
    "### Top10 most popular artists (not based on monthly listeners)\n",
    "\n",
    "One might mistake this as the monthly listeners but it's a different.The higher your popularity index, the more likely the algorithm is to recommend you to new listeners, and place you in algorithmic playlists like Release Radar and Discover Weekly."
   ]
  },
  {
   "cell_type": "code",
   "execution_count": null,
   "id": "ffc5bdb0",
   "metadata": {},
   "outputs": [],
   "source": [
    "popular_artists = artist_data.sort_values('popularity', ascending=False).head(10)\n",
    "popular_artists[['popularity','energy','artists','danceability']]"
   ]
  },
  {
   "cell_type": "markdown",
   "id": "e8b56c48",
   "metadata": {},
   "source": [
    "#### Converting song duration from milliseconds to minutes"
   ]
  },
  {
   "cell_type": "code",
   "execution_count": null,
   "id": "7d4b9bf6",
   "metadata": {
    "scrolled": true
   },
   "outputs": [],
   "source": [
    "data['duration']=data['duration_ms'].apply(lambda x : round((x/60000),2))\n",
    "genre_data['duration']=genre_data['duration_ms'].apply(lambda x : round((x/60000),2))\n",
    "year_data['duration']=year_data['duration_ms'].apply(lambda x : round((x/60000),2))\n",
    "artist_data['duration']=artist_data['duration_ms'].apply(lambda x : round((x/60000),2))\n",
    "data.duration.head()"
   ]
  },
  {
   "cell_type": "markdown",
   "id": "009af5da",
   "metadata": {},
   "source": [
    "### Visualizing through a correlation map"
   ]
  },
  {
   "cell_type": "code",
   "execution_count": null,
   "id": "b5459464",
   "metadata": {},
   "outputs": [],
   "source": [
    "from yellowbrick.target import FeatureCorrelation\n",
    "\n",
    "feature_names = ['acousticness', 'danceability', 'energy', 'instrumentalness',\n",
    "       'liveness', 'loudness', 'speechiness', 'tempo', 'valence','duration','explicit']\n",
    "\n",
    "X, y = data[feature_names], data['popularity']\n",
    "\n",
    "# Create a list of the feature names\n",
    "features = np.array(feature_names)\n",
    "\n",
    "# Instantiate the visualizer\n",
    "visualizer = FeatureCorrelation(labels=features)\n",
    "\n",
    "visualizer.fit(X, y)     # Fit the data to the visualizer\n",
    "visualizer.show();        # Finalize and render the figure"
   ]
  },
  {
   "cell_type": "code",
   "execution_count": null,
   "id": "fa804895",
   "metadata": {},
   "outputs": [],
   "source": [
    "corr_df=data.drop(['key','mode','explicit','duration_ms'], axis=1).corr(method='pearson')\n",
    "plt.figure(figsize=(14,8))\n",
    "heatmap=sns.heatmap(corr_df, annot=True, fmt='.1g', vmin=-1, vmax=1, center=0, cmap=\"BrBG\", linewidths=2, linecolor=\"Black\"\n",
    ")\n",
    "heatmap.set_title('Correlation Heatmap Between Variable')\n",
    "heatmap.set_xticklabels(heatmap.get_xticklabels(), rotation=90);"
   ]
  },
  {
   "cell_type": "markdown",
   "id": "07bbf78b",
   "metadata": {},
   "source": [
    "### Regression plot between Loudness and Energy"
   ]
  },
  {
   "cell_type": "code",
   "execution_count": null,
   "id": "1c60bbd2",
   "metadata": {},
   "outputs": [],
   "source": [
    "sns.regplot(data=data, y='loudness', x='energy', scatter_kws={\"color\": \"violet\", 's':2}, marker='2', line_kws={\"color\": \"black\", 'linewidth':1.5}).set(title='Loudness Vs Energy Correlation');"
   ]
  },
  {
   "cell_type": "markdown",
   "id": "5acbfb18",
   "metadata": {},
   "source": [
    "### Regression plot between Popularity and Acousticness"
   ]
  },
  {
   "cell_type": "code",
   "execution_count": null,
   "id": "12e831a9",
   "metadata": {},
   "outputs": [],
   "source": [
    "sns.regplot(data=data, y='popularity', x='acousticness', scatter_kws={\"color\": \"c\", 's':3}, marker='X', line_kws={\"color\": \"black\", 'linewidth':1.5}).set(title='Popularity Vs Acousticness Correlation');"
   ]
  },
  {
   "cell_type": "markdown",
   "id": "5d76e27e",
   "metadata": {},
   "source": [
    "### Regression plot between Speechiness and Acousticness"
   ]
  },
  {
   "cell_type": "code",
   "execution_count": null,
   "id": "9b741e0a",
   "metadata": {},
   "outputs": [],
   "source": [
    "sns.regplot(data=data, y='speechiness', x='acousticness', scatter_kws={\"color\": \"goldenrod\", 's':3}, marker='+', line_kws={\"color\": \"black\", 'linewidth':1.5}).set(title='Speechiness Vs Acousticness Correlation');"
   ]
  },
  {
   "cell_type": "markdown",
   "id": "77016d33",
   "metadata": {},
   "source": [
    "### Regression plot between Popularity and Danceability"
   ]
  },
  {
   "cell_type": "code",
   "execution_count": null,
   "id": "db392e62",
   "metadata": {},
   "outputs": [],
   "source": [
    "sns.regplot(data=data, y='popularity', x='danceability', scatter_kws={\"color\": \"red\", 's':3}, marker='*', line_kws={\"color\": \"black\", 'linewidth':1.5}).set(title='Popularity Vs Danceability Correlation');"
   ]
  },
  {
   "cell_type": "markdown",
   "id": "54d5ef5e",
   "metadata": {},
   "source": [
    "### Bar plot to visualize the correlation between the duration of songs and their different genres\n"
   ]
  },
  {
   "cell_type": "code",
   "execution_count": null,
   "id": "2b768ecc",
   "metadata": {},
   "outputs": [],
   "source": [
    "top_genres = genre_data.nlargest(20, 'popularity')\n",
    "plt.title(\"Duration of the Songs in Different Genres\")\n",
    "#sns.color_palette(\"rocket\", as_cmap= True)\n",
    "sns.barplot(y='genres', x='duration', data=top_genres, color='lightsalmon')\n",
    "plt.xlabel (\"Duration in seconds\")\n",
    "plt.ylabel(\"Genres\");"
   ]
  },
  {
   "cell_type": "markdown",
   "id": "7dbec33d",
   "metadata": {},
   "source": [
    "## *Music Over Time*"
   ]
  },
  {
   "cell_type": "markdown",
   "id": "56981f41",
   "metadata": {},
   "source": [
    "### Bar plot to visualize the duration of songs over the years"
   ]
  },
  {
   "cell_type": "code",
   "execution_count": null,
   "id": "c6067ac7",
   "metadata": {
    "scrolled": false
   },
   "outputs": [],
   "source": [
    "plt.figure(figsize=(20,6))\n",
    "sns.barplot(x=\"year\",y=\"duration\", errwidth=False, data=data).set(title='Year Vs Duration')\n",
    "plt.xticks(rotation=90);"
   ]
  },
  {
   "cell_type": "markdown",
   "id": "0072a344",
   "metadata": {},
   "source": [
    "### Distribution plot to visualize the total number of songs in each year since 1921 in our Spotify database"
   ]
  },
  {
   "cell_type": "code",
   "execution_count": null,
   "id": "b036c3d0",
   "metadata": {
    "scrolled": false
   },
   "outputs": [],
   "source": [
    "fig = px.histogram(data, x=\"year\")\n",
    "fig.show()"
   ]
  },
  {
   "cell_type": "markdown",
   "id": "753a73d6",
   "metadata": {},
   "source": [
    "### *How the overall sound of music has changed from 1921 to 2020...*"
   ]
  },
  {
   "cell_type": "code",
   "execution_count": null,
   "id": "5cd6254c",
   "metadata": {},
   "outputs": [],
   "source": [
    "def extract_decade(year):\n",
    "    start_period = int(year/10) * 10\n",
    "    decade = '{}s'.format(start_period)\n",
    "    return decade\n",
    "\n",
    "data['decade'] = data['year'].apply(extract_decade)\n",
    "\n",
    "sns.set(rc={'figure.figsize':(10 ,5)})\n",
    "sns.countplot(data['decade']);"
   ]
  },
  {
   "cell_type": "code",
   "execution_count": null,
   "id": "2216e363",
   "metadata": {},
   "outputs": [],
   "source": [
    "sound_features = ['acousticness', 'liveness', 'instrumentalness', 'energy', 'danceability', 'valence']\n",
    "fig = px.line(year_data, x='year', y=sound_features)\n",
    "fig.show()"
   ]
  },
  {
   "cell_type": "markdown",
   "id": "5cb47959",
   "metadata": {},
   "source": [
    "### Characteristics of various genres over the years\n",
    "Using the audio features for different genres we can compare them and their unique differences in music."
   ]
  },
  {
   "cell_type": "code",
   "execution_count": null,
   "id": "f6777a9c",
   "metadata": {},
   "outputs": [],
   "source": [
    "top_genres = genre_data.nlargest(10, 'popularity')\n",
    "\n",
    "fig = px.bar(top_genres, x='genres', y=['valence', 'energy', 'danceability', 'acousticness'], barmode='group')\n",
    "fig.show()"
   ]
  },
  {
   "cell_type": "markdown",
   "id": "44f69039",
   "metadata": {},
   "source": [
    "### Clustering Genres with K-Means\n",
    "\n",
    "Using simple K-means clustering algorithm to divide the genres in this dataset into ten clusters based on the numerical audio features of each genres."
   ]
  },
  {
   "cell_type": "code",
   "execution_count": null,
   "id": "eaea5f4d",
   "metadata": {},
   "outputs": [],
   "source": [
    "from sklearn.cluster import KMeans\n",
    "from sklearn.pipeline import Pipeline\n",
    "from sklearn.preprocessing import StandardScaler\n",
    "\n",
    "cluster_pipeline = Pipeline([('scaler', StandardScaler()), ('kmeans', KMeans(n_clusters=10))])\n",
    "X = genre_data.select_dtypes(np.number)\n",
    "cluster_pipeline.fit(X)\n",
    "genre_data['cluster'] = cluster_pipeline.predict(X)"
   ]
  },
  {
   "cell_type": "code",
   "execution_count": null,
   "id": "98a85a58",
   "metadata": {},
   "outputs": [],
   "source": [
    "# Visualizing the Clusters with t-SNE\n",
    "\n",
    "\n",
    "from sklearn.manifold import TSNE\n",
    "\n",
    "tsne_pipeline = Pipeline([('scaler', StandardScaler()), ('tsne', TSNE(n_components=2, verbose=False))])\n",
    "genre_embedding = tsne_pipeline.fit_transform(X)\n",
    "projection = pd.DataFrame(columns=['x', 'y'], data=genre_embedding)\n",
    "projection['genres'] = genre_data['genres']\n",
    "projection['cluster'] = genre_data['cluster']\n",
    "\n",
    "fig = px.scatter(projection, x='x', y='y', color='cluster', hover_data=['x', 'y', 'genres'])\n",
    "fig.show();"
   ]
  },
  {
   "cell_type": "markdown",
   "id": "1b815613",
   "metadata": {},
   "source": [
    "### Clustering Songs with K-Means"
   ]
  },
  {
   "cell_type": "code",
   "execution_count": null,
   "id": "89839a81",
   "metadata": {},
   "outputs": [],
   "source": [
    "number_cols = ['valence', 'year', 'acousticness', 'danceability', 'duration_ms', 'energy', 'explicit',\n",
    " 'instrumentalness', 'key', 'liveness', 'loudness', 'mode', 'popularity', 'speechiness', 'tempo']\n",
    "song_cluster_pipeline = Pipeline([('scaler', StandardScaler()), ('kmeans', KMeans(n_clusters=20, verbose=False))], verbose=False)\n",
    "\n",
    "X = data[number_cols].select_dtypes(np.number)\n",
    "song_cluster_pipeline.fit(X)\n",
    "song_cluster_labels = song_cluster_pipeline.predict(X)\n",
    "data['cluster_label'] = song_cluster_labels"
   ]
  },
  {
   "cell_type": "code",
   "execution_count": null,
   "id": "7bdf9aa8",
   "metadata": {},
   "outputs": [],
   "source": [
    "# Visualizing the Clusters with PCA\n",
    "\n",
    "from sklearn.decomposition import PCA\n",
    "\n",
    "pca_pipeline = Pipeline([('scaler', StandardScaler()), ('PCA', PCA(n_components=2))])\n",
    "song_embedding = pca_pipeline.fit_transform(X)\n",
    "projection = pd.DataFrame(columns=['x', 'y'], data=song_embedding)\n",
    "projection['title'] = data['name']\n",
    "projection['cluster'] = data['cluster_label']\n",
    "\n",
    "fig = px.scatter(projection, x='x', y='y', color='cluster', hover_data=['x', 'y', 'title'])\n",
    "fig.show();"
   ]
  },
  {
   "cell_type": "markdown",
   "id": "9fdb8f29",
   "metadata": {},
   "source": [
    "### Building the Recommendation System\n",
    "\n",
    "Based on the analysis and visualizations, it’s clear that similar genres tend to have data points that are located close to each other while similar types of songs are also clustered together.\n",
    "\n",
    "This observation makes perfect sense. Similar genres will sound similar and will come from similar time periods while the same can be said for songs within those genres. \n",
    "\n",
    "We can use this idea to build a recommendation system by taking the data points of the songs a user has listened to and then recommending songs corresponding to nearby data points.\n",
    "\n",
    "We will use Spotipy. It is a Python client for the Spotify Web API that makes it easy for developers to fetch data and query Spotify’s catalog for songs."
   ]
  },
  {
   "cell_type": "code",
   "execution_count": null,
   "id": "58dfe8ab",
   "metadata": {},
   "outputs": [],
   "source": [
    "!pip install spotipy"
   ]
  },
  {
   "cell_type": "code",
   "execution_count": null,
   "id": "5a532b13",
   "metadata": {},
   "outputs": [],
   "source": [
    "import spotipy\n",
    "from spotipy.oauth2 import SpotifyClientCredentials\n",
    "from collections import defaultdict\n",
    "\n",
    "sp = spotipy.Spotify(auth_manager=SpotifyClientCredentials(client_id=\"88f16ab0579f46e68276b5ea6febf994\", \n",
    "                                                           client_secret=\"577807c725b74c649817aa6c9eb926de\"))\n",
    "\n",
    "def find_song(name, year):\n",
    "    song_data = defaultdict()\n",
    "    results = sp.search(q= 'track: {} year: {}'.format(name,year), limit=1)\n",
    "    if results['tracks']['items'] == []:\n",
    "        return None\n",
    "\n",
    "    results = results['tracks']['items'][0]\n",
    "    track_id = results['id']\n",
    "    audio_features = sp.audio_features(track_id)[0]\n",
    "\n",
    "    song_data['name'] = [name]\n",
    "    song_data['year'] = [year]\n",
    "    song_data['explicit'] = [int(results['explicit'])]\n",
    "    song_data['duration_ms'] = [results['duration_ms']]\n",
    "    song_data['popularity'] = [results['popularity']]\n",
    "\n",
    "    for key, value in audio_features.items():\n",
    "        song_data[key] = value\n",
    "\n",
    "    return pd.DataFrame(song_data)"
   ]
  },
  {
   "cell_type": "code",
   "execution_count": null,
   "id": "b9dedf00",
   "metadata": {},
   "outputs": [],
   "source": [
    "from collections import defaultdict\n",
    "from sklearn.metrics import euclidean_distances\n",
    "from scipy.spatial.distance import cdist\n",
    "import difflib\n",
    "\n",
    "\n",
    "def get_song_data(song, spotify_data):\n",
    "    \n",
    "    try:\n",
    "        song_data = spotify_data[(spotify_data['name'] == song['name']) \n",
    "                                & (spotify_data['year'] == song['year'])].iloc[0]\n",
    "        return song_data\n",
    "    \n",
    "    except IndexError:\n",
    "        return find_song(song['name'], song['year'])\n",
    "        \n",
    "\n",
    "def get_mean_vector(song_list, spotify_data):\n",
    "    \n",
    "    song_vectors = []\n",
    "    \n",
    "    for song in song_list:\n",
    "        song_data = get_song_data(song, spotify_data)\n",
    "        if song_data is None:\n",
    "            print('Warning: {} does not exist in Spotify or in database'.format(song['name']))\n",
    "            continue\n",
    "        song_vector = song_data[number_cols].values\n",
    "        song_vectors.append(song_vector)  \n",
    "    \n",
    "    song_matrix = np.array(list(song_vectors))\n",
    "    return np.mean(song_matrix, axis=0)\n",
    "\n",
    "\n",
    "def flatten_dict_list(dict_list):\n",
    "    \n",
    "    flattened_dict = defaultdict()\n",
    "    for key in dict_list[0].keys():\n",
    "        flattened_dict[key] = []\n",
    "    \n",
    "    for dictionary in dict_list:\n",
    "        for key, value in dictionary.items():\n",
    "            flattened_dict[key].append(value)\n",
    "            \n",
    "    return flattened_dict\n",
    "\n",
    "\n",
    "def recommend_songs( song_list, spotify_data, n_songs=10):\n",
    "    \n",
    "    metadata_cols = ['name', 'year', 'artists']\n",
    "    song_dict = flatten_dict_list(song_list)\n",
    "    \n",
    "    song_center = get_mean_vector(song_list, spotify_data)\n",
    "    scaler = song_cluster_pipeline.steps[0][1]\n",
    "    scaled_data = scaler.transform(spotify_data[number_cols])\n",
    "    scaled_song_center = scaler.transform(song_center.reshape(1, -1))\n",
    "    distances = cdist(scaled_song_center, scaled_data, 'cosine')\n",
    "    index = list(np.argsort(distances)[:, :n_songs][0])\n",
    "    \n",
    "    rec_songs = spotify_data.iloc[index]\n",
    "    rec_songs = rec_songs[~rec_songs['name'].isin(song_dict['name'])]\n",
    "    return rec_songs[metadata_cols].to_dict(orient='records')"
   ]
  },
  {
   "cell_type": "markdown",
   "id": "fa5b020f",
   "metadata": {},
   "source": [
    "#### Recommended Songs:"
   ]
  },
  {
   "cell_type": "code",
   "execution_count": null,
   "id": "0cf6011f",
   "metadata": {},
   "outputs": [],
   "source": [
    "recommend_songs([{'name': 'Come As You Are', 'year':1991},\n",
    "                {'name': 'Smells Like Teen Spirit', 'year': 1991},\n",
    "                {'name': 'Lithium', 'year': 1992},\n",
    "                 {'name': 'All Apologies', 'year': 1993},\n",
    "                  {'name': 'Stay Away', 'year': 1993}], data)"
   ]
  }
 ],
 "metadata": {
  "kernelspec": {
   "display_name": "Python 3 (ipykernel)",
   "language": "python",
   "name": "python3"
  },
  "language_info": {
   "codemirror_mode": {
    "name": "ipython",
    "version": 3
   },
   "file_extension": ".py",
   "mimetype": "text/x-python",
   "name": "python",
   "nbconvert_exporter": "python",
   "pygments_lexer": "ipython3",
   "version": "3.9.12"
  }
 },
 "nbformat": 4,
 "nbformat_minor": 5
}
